{
 "cells": [
  {
   "cell_type": "code",
   "execution_count": 7,
   "metadata": {},
   "outputs": [
    {
     "name": "stdout",
     "output_type": "stream",
     "text": [
      "Row added successfully!\n"
     ]
    },
    {
     "data": {
      "text/plain": [
       "{'latency': 10.0, 'area': 100.0, 'power': 50.0}"
      ]
     },
     "execution_count": 7,
     "metadata": {},
     "output_type": "execute_result"
    }
   ],
   "source": [
    "import pandas as pd\n",
    "\n",
    "def find_row(data, alldata, status):\n",
    "    # 将status字典转换为DataFrame中行的形式\n",
    "    status_series = pd.Series(status)\n",
    "    \n",
    "    # 检查data中每一行的前8列\n",
    "    for index, row in data.iterrows():\n",
    "        if row[:8].equals(status_series):\n",
    "            return row  # 找到匹配的行，返回这一行\n",
    "    \n",
    "    # 如果在data中没有找到，检查alldata\n",
    "    for index, row in alldata.iterrows():\n",
    "        if row[:8].equals(status_series):\n",
    "            return row  # 找到匹配的行，返回这一行\n",
    "    \n",
    "    # 如果两个DataFrame都没有找到匹配的行，返回None\n",
    "    return None\n",
    "\n",
    "# 假设你已经有两个DataFrame data和alldata\n",
    "data = pd.DataFrame({\n",
    "    'core': [1, 2, 3],\n",
    "    'l1i_size': [32, 64, 128],\n",
    "    'l1d_size': [32, 64, 128],\n",
    "    'l2_size': [256, 512, 1024],\n",
    "    'l1d_assoc': [4, 4, 4],\n",
    "    'l1i_assoc': [4, 4, 4],\n",
    "    'l2_assoc': [8, 8, 8],\n",
    "    'sys_clock': [2.4, 2.5, 2.6],\n",
    "    'latency': [10, 20, 30],\n",
    "    'area': [100, 200, 300],\n",
    "    'power': [50, 60, 70]\n",
    "})\n",
    "\n",
    "alldata = pd.DataFrame({\n",
    "    'core': [1, 5, 6],\n",
    "    'l1i_size': [32, 512, 1024],\n",
    "    'l1d_size': [32, 512, 1024],\n",
    "    'l2_size': [256, 2048, 4096],\n",
    "    'l1d_assoc': [4, 4, 4],\n",
    "    'l1i_assoc': [4, 4, 4],\n",
    "    'l2_assoc': [8, 8, 8],\n",
    "    'sys_clock': [2.4, 2.8, 2.9],\n",
    "    'latency': [10, 50, 60],\n",
    "    'area': [100, 500, 600],\n",
    "    'power': [50, 90, 100]\n",
    "})\n",
    "\n",
    "# status结构体，现假定为一个字典，与DataFrame的列结构相同\n",
    "status = {\n",
    "    'core': 1,\n",
    "    'l1i_size': 32,\n",
    "    'l1d_size': 32,\n",
    "    'l2_size': 256,\n",
    "    'l1d_assoc': 4,\n",
    "    'l1i_assoc': 4,\n",
    "    'l2_assoc': 8,\n",
    "    'sys_clock': 2.4\n",
    "}\n",
    "\n",
    "result = find_row(data, alldata, status)\n",
    "row = find_row(data,alldata,status)\n",
    "# 检查结果是否非空，然后添加到data中\n",
    "if row is not None:\n",
    "    data = pd.concat([data, pd.DataFrame([row])], ignore_index=True)\n",
    "    print(\"Row added successfully!\")\n",
    "else:\n",
    "    print(\"No matching row found\")\n",
    "    \n",
    "# data\n",
    "\n",
    "result_dict = row[-3:].to_dict()\n",
    "\n",
    "result_dict"
   ]
  }
 ],
 "metadata": {
  "kernelspec": {
   "display_name": "Python 3",
   "language": "python",
   "name": "python3"
  },
  "language_info": {
   "codemirror_mode": {
    "name": "ipython",
    "version": 3
   },
   "file_extension": ".py",
   "mimetype": "text/x-python",
   "name": "python",
   "nbconvert_exporter": "python",
   "pygments_lexer": "ipython3",
   "version": "3.10.12"
  }
 },
 "nbformat": 4,
 "nbformat_minor": 2
}
